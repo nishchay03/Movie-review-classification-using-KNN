{
 "cells": [
  {
   "cell_type": "code",
   "execution_count": 98,
   "metadata": {},
   "outputs": [],
   "source": [
    "import numpy as np\n",
    "import scipy as sp\n",
    "%matplotlib inline\n",
    "import matplotlib.pyplot as plt\n",
    "from collections import defaultdict\n",
    "from pyparsing import anyOpenTag, anyCloseTag\n",
    "from xml.sax.saxutils import unescape as unescape"
   ]
  },
  {
   "cell_type": "code",
   "execution_count": 99,
   "metadata": {
    "collapsed": true
   },
   "outputs": [],
   "source": [
    "# open docs file and read its lines\n",
    "with open(\"data/train.dat\", \"r\") as fh1:\n",
    "    train = fh1.readlines() \n",
    "with open(\"data/test.dat\", \"r\") as fh2:\n",
    "    test = fh2.readlines()\n",
    "lines = train + test"
   ]
  },
  {
   "cell_type": "code",
   "execution_count": 100,
   "metadata": {},
   "outputs": [
    {
     "name": "stdout",
     "output_type": "stream",
     "text": [
      "25000\n",
      "50000\n"
     ]
    }
   ],
   "source": [
    "# transform docs into lists of words\n",
    "docs_X = [l.split() for l in train]\n",
    "\n",
    "print len(docs_X)\n",
    "docs = [l.split() for l in lines]\n",
    "print len(docs)\n",
    "labels = list()\n",
    "# print docs\n",
    "for i in range(len(docs_X)):\n",
    "    labels.append(docs_X[i][0])"
   ]
  },
  {
   "cell_type": "code",
   "execution_count": 107,
   "metadata": {},
   "outputs": [
    {
     "name": "stdout",
     "output_type": "stream",
     "text": [
      "['-1', 'Although', 'a', 'film', 'with', 'Bruce', 'Willis', 'is', 'always', 'worth', 'watching,', 'you', 'better', 'skip', 'this', 'one.', 'I', 'watched', 'this', 'one', 'on', 'television,', 'so', 'I', \"didn't\", 'have', 'to', 'plunk', 'down', 'cash', 'for', 'it.', 'Lucky', 'me.<br', '/><br', '/>The', 'plot', 'develops', 'slowly,', 'very', 'slowly.', 'Although', 'the', 'first', '30', 'minutes', 'or', 'so', 'are', 'quite']\n",
      "['Although', 'film', 'with', 'Bruce', 'Willis', 'always', 'worth', 'watching,', 'better', 'skip', 'this', 'one.', 'watched', 'this', 'television,', \"didn't\", 'have', 'plunk', 'down', 'cash', 'Lucky', 'me.<br', '/><br', '/>The', 'plot', 'develops', 'slowly,', 'very', 'slowly.', 'Although', 'first', 'minutes', 'quite', 'believable,', 'gets', 'more', 'more', 'unbelievable', 'towards', 'end.', 'highly', 'questionable,', 'seasoned', 'soldier', 'like', 'Waters', 'would', 'disobey', 'direct', 'orders.']\n"
     ]
    }
   ],
   "source": [
    "def filterLen(docs, minlen):\n",
    "    r\"\"\" filter out terms that are too short. \n",
    "    docs is a list of lists, each inner list is a document represented as a list of words\n",
    "    minlen is the minimum length of the word to keep\n",
    "    \"\"\"\n",
    "    return [ [t for t in d if len(t) >= minlen ] for d in docs ]\n",
    "docs1 = filterLen(docs, 4)\n",
    "print(docs[0][:50])\n",
    "print(docs1[0][:50])"
   ]
  },
  {
   "cell_type": "code",
   "execution_count": 108,
   "metadata": {
    "collapsed": true
   },
   "outputs": [],
   "source": [
    "from collections import Counter\n",
    "from scipy.sparse import csr_matrix\n",
    "def build_matrix(docs):\n",
    "    r\"\"\" Build sparse matrix from a list of documents, \n",
    "    each of which is a list of word/terms in the document.  \n",
    "    \"\"\"\n",
    "    nrows = len(docs)\n",
    "    idx = {}\n",
    "    tid = 0\n",
    "    nnz = 0\n",
    "    for d in docs:\n",
    "        nnz += len(set(d))\n",
    "        for w in d:\n",
    "            if w not in idx:\n",
    "                idx[w] = tid\n",
    "                tid += 1\n",
    "    ncols = len(idx)\n",
    "        \n",
    "    # set up memory\n",
    "    ind = np.zeros(nnz, dtype=np.int)\n",
    "    val = np.zeros(nnz, dtype=np.double)\n",
    "    ptr = np.zeros(nrows+1, dtype=np.int)\n",
    "    i = 0  # document ID / row counter\n",
    "    n = 0  # non-zero counter\n",
    "    # transfer values\n",
    "    for d in docs:\n",
    "        cnt = Counter(d)\n",
    "        keys = list(k for k,_ in cnt.most_common())\n",
    "        l = len(keys)\n",
    "        for j,k in enumerate(keys):\n",
    "            ind[j+n] = idx[k]\n",
    "            val[j+n] = cnt[k]\n",
    "        ptr[i+1] = ptr[i] + l\n",
    "        n += l\n",
    "        i += 1\n",
    "            \n",
    "    mat = csr_matrix((val, ind, ptr), shape=(nrows, ncols), dtype=np.double)\n",
    "    mat.sort_indices()\n",
    "    \n",
    "    return mat\n",
    "\n",
    "\n",
    "def csr_info(mat, name=\"\", non_empy=False):\n",
    "    r\"\"\" Print out info about this CSR matrix. If non_empy, \n",
    "    report number of non-empty rows and cols as well\n",
    "    \"\"\"\n",
    "    if non_empy:\n",
    "        print(\"%s [nrows %d (%d non-empty), ncols %d (%d non-empty), nnz %d]\" % (\n",
    "                name, mat.shape[0], \n",
    "                sum(1 if mat.indptr[i+1] > mat.indptr[i] else 0 \n",
    "                for i in range(mat.shape[0])), \n",
    "                mat.shape[1], len(np.unique(mat.indices)), \n",
    "                len(mat.data)))\n",
    "    else:\n",
    "        print( \"%s [nrows %d, ncols %d, nnz %d]\" % (name, \n",
    "                mat.shape[0], mat.shape[1], len(mat.data)) )"
   ]
  },
  {
   "cell_type": "code",
   "execution_count": 109,
   "metadata": {},
   "outputs": [
    {
     "name": "stdout",
     "output_type": "stream",
     "text": [
      " [nrows 50000, ncols 431191, nnz 5847209]\n"
     ]
    }
   ],
   "source": [
    "mat1 = build_matrix(docs1)\n",
    "csr_info(mat1)"
   ]
  },
  {
   "cell_type": "code",
   "execution_count": 110,
   "metadata": {
    "collapsed": true
   },
   "outputs": [],
   "source": [
    "# scale matrix and normalize its rows\n",
    "def csr_idf(mat, copy=False, **kargs):\n",
    "    r\"\"\" Scale a CSR matrix by idf. \n",
    "    Returns scaling factors as dict. If copy is True, \n",
    "    returns scaled matrix and scaling factors.\n",
    "    \"\"\"\n",
    "    if copy is True:\n",
    "        mat = mat.copy()\n",
    "    nrows = mat.shape[0]\n",
    "    nnz = mat.nnz\n",
    "    ind, val, ptr = mat.indices, mat.data, mat.indptr\n",
    "    # document frequency\n",
    "    df = defaultdict(int)\n",
    "    for i in ind:\n",
    "        df[i] += 1\n",
    "    # inverse document frequency\n",
    "    for k,v in df.items():\n",
    "        df[k] = np.log(nrows / float(v))  ## df turns to idf - reusing memory\n",
    "    # scale by idf\n",
    "    for i in range(0, nnz):\n",
    "        val[i] *= df[ind[i]]\n",
    "        \n",
    "    return df if copy is False else mat\n",
    "\n",
    "def csr_l2normalize(mat, copy=False, **kargs):\n",
    "    r\"\"\" Normalize the rows of a CSR matrix by their L-2 norm. \n",
    "    If copy is True, returns a copy of the normalized matrix.\n",
    "    \"\"\"\n",
    "    if copy is True:\n",
    "        mat = mat.copy()\n",
    "    nrows = mat.shape[0]\n",
    "    nnz = mat.nnz\n",
    "    ind, val, ptr = mat.indices, mat.data, mat.indptr\n",
    "    # normalize\n",
    "    for i in range(nrows):\n",
    "        rsum = 0.0    \n",
    "        for j in range(ptr[i], ptr[i+1]):\n",
    "            rsum += val[j]**2\n",
    "        if rsum == 0.0:\n",
    "            continue  # do not normalize empty rows\n",
    "        rsum = 1.0/np.sqrt(rsum)\n",
    "        for j in range(ptr[i], ptr[i+1]):\n",
    "            val[j] *= rsum\n",
    "            \n",
    "    if copy is True:\n",
    "        return mat\n",
    "mat2 = csr_idf(mat1, copy=True)\n",
    "mat3 = csr_l2normalize(mat2, copy=True)"
   ]
  },
  {
   "cell_type": "code",
   "execution_count": 111,
   "metadata": {},
   "outputs": [],
   "source": [
    "%reload_ext autoreload \n",
    "%matplotlib inline\n",
    "import time\n",
    "from lsh import clsh, jlsh, generateSamples, findNeighborsBrute, recall"
   ]
  },
  {
   "cell_type": "code",
   "execution_count": 112,
   "metadata": {},
   "outputs": [],
   "source": [
    "# divide tranning set and test set \n",
    "X = mat3[:25000, :]\n",
    "Y = mat3[25000:, :] "
   ]
  },
  {
   "cell_type": "code",
   "execution_count": 113,
   "metadata": {
    "collapsed": true
   },
   "outputs": [],
   "source": [
    "# compute cosine sim\n",
    "sims = Y.dot(X.T)"
   ]
  },
  {
   "cell_type": "code",
   "execution_count": 117,
   "metadata": {},
   "outputs": [
    {
     "name": "stdout",
     "output_type": "stream",
     "text": [
      "over!\n"
     ]
    }
   ],
   "source": [
    "# find k neighbours\n",
    "import operator\n",
    "k = 100\n",
    "dic_for_sort = dict()\n",
    "sims1 = sims\n",
    "list_nbr = list()\n",
    "y_labels = list()\n",
    "for i in range(sims1.shape[0]):\n",
    "\n",
    "    count1 = 0\n",
    "    row = sims1.getrow(i).toarray()[0].ravel()\n",
    "    top_indices = row.argsort()[-k:]\n",
    "    top_values = row[row.argsort()[-k:]]\n",
    "    \n",
    "    for j in range(len(top_indices)):\n",
    "        if labels[top_indices[j]]=='+1':\n",
    "            count1 = count1+1\n",
    "    if count1>k/2:\n",
    "        y_labels.append('+1')\n",
    "    else:\n",
    "        y_labels.append('-1')\n",
    "\n",
    "print 'over!'"
   ]
  },
  {
   "cell_type": "code",
   "execution_count": 118,
   "metadata": {
    "collapsed": true
   },
   "outputs": [],
   "source": [
    "# print result to text file\n",
    "text_file = open(\"data/format.dat\", \"w\")\n",
    "\n",
    "\n",
    "for i in y_labels:\n",
    "    \n",
    "    text_file.write(i+'\\n')\n",
    "text_file.close()"
   ]
  },
  {
   "cell_type": "code",
   "execution_count": null,
   "metadata": {
    "collapsed": true
   },
   "outputs": [],
   "source": []
  }
 ],
 "metadata": {
  "kernelspec": {
   "display_name": "Python 2",
   "language": "python",
   "name": "python2"
  },
  "language_info": {
   "codemirror_mode": {
    "name": "ipython",
    "version": 2
   },
   "file_extension": ".py",
   "mimetype": "text/x-python",
   "name": "python",
   "nbconvert_exporter": "python",
   "pygments_lexer": "ipython2",
   "version": "2.7.13"
  }
 },
 "nbformat": 4,
 "nbformat_minor": 2
}
